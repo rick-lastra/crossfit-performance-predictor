{
  "nbformat": 4,
  "nbformat_minor": 0,
  "metadata": {
    "colab": {
      "provenance": [],
      "gpuType": "T4"
    },
    "kernelspec": {
      "name": "python3",
      "display_name": "Python 3"
    },
    "language_info": {
      "name": "python"
    },
    "accelerator": "GPU"
  },
  "cells": [
    {
      "cell_type": "code",
      "source": [
        "import requests\n",
        "import json\n",
        "\n",
        "# PASO 1: AUTENTICACIÓN (token de acceso de IBM Cloud)\n",
        "API_KEY = 'dmZP03CD469936te9f-iSXvljPYYalT9dWGlhZ7jrv5k' #clave de API\n",
        "token_url = 'https://iam.cloud.ibm.com/identity/token'\n",
        "\n",
        "response = requests.post(\n",
        "    token_url,\n",
        "    data={\"apikey\": API_KEY, \"grant_type\": \"urn:ibm:params:oauth:grant-type:apikey\"},\n",
        "    headers={\"Content-Type\": \"application/x-www-form-urlencoded\"}\n",
        ")\n",
        "\n",
        "print(\"Código de estado:\", response.status_code)\n",
        "print(\"Respuesta del servidor:\")\n",
        "print(response.text)\n",
        "\n",
        "ml_token = response.json()[\"access_token\"]\n",
        "\n",
        "# PASO 2: CONFIGURACIÓN DEL ENDPOINT DEL MODELO\n",
        "#Punto final público\n",
        "endpoint_url = 'https://us-south.ml.cloud.ibm.com/ml/v4/deployments/cf_online_deploy/predictions?version=2021-05-01'\n",
        "headers = {\n",
        "    \"Content-Type\": \"application/json\",\n",
        "    \"Authorization\": f\"Bearer {ml_token}\"\n",
        "}\n",
        "\n",
        "# PASO 3: DATOS DE ENTRADA PARA HACER UNA PREDICCIÓN\n",
        "input_payload = {\n",
        "    \"input_data\": [\n",
        "        {\n",
        "            \"fields\": [\n",
        "                \"date\",\n",
        "                \"title\",\n",
        "                \"description\",\n",
        "                \"best_result_display\",\n",
        "                \"score_type\",\n",
        "                \"barbell_lift\",\n",
        "                \"set_details\",\n",
        "                \"notes\",\n",
        "                \"rx_or_scaled\",\n",
        "                \"pr\"\n",
        "            ],\n",
        "            \"values\": [[\n",
        "                \"2024-07-25\",\n",
        "                \"Fran\",\n",
        "                \"21-15-9 thrusters and pull-ups\",\n",
        "                \"4:32\",\n",
        "                \"time\",\n",
        "                \"thruster\",\n",
        "                \"21-15-9\",\n",
        "                \"felt great, unbroken sets\",\n",
        "                \"rx\",\n",
        "                \"true\",\n",
        "            ]]\n",
        "        }\n",
        "    ]\n",
        "}\n",
        "\n",
        "# PASO 4: REALIZAR LA PETICIÓN\n",
        "response = requests.post(endpoint_url, json=input_payload, headers=headers)\n",
        "\n",
        "# PASO 5: MOSTRAR RESULTADO\n",
        "print(\"Respuesta del modelo:\")\n",
        "print(json.dumps(response.json(), indent=2))\n"
      ],
      "metadata": {
        "colab": {
          "base_uri": "https://localhost:8080/"
        },
        "id": "W3ERsFXsCdN4",
        "outputId": "686046a4-16ba-4bf0-8dec-456c812427fd"
      },
      "execution_count": null,
      "outputs": [
        {
          "output_type": "stream",
          "name": "stdout",
          "text": [
            "Código de estado: 200\n",
            "Respuesta del servidor:\n",
            "{\"access_token\":\"eyJraWQiOiIyMDE5MDcyNCIsImFsZyI6IlJTMjU2In0.eyJpYW1faWQiOiJJQk1pZC02OTQwMDBYRVJTIiwiaWQiOiJJQk1pZC02OTQwMDBYRVJTIiwicmVhbG1pZCI6IklCTWlkIiwianRpIjoiM2M1ZDIxYzAtOWRjYy00ZjFjLWI4ZmYtMTc5YmNkYmQwZTU3IiwiaWRlbnRpZmllciI6IjY5NDAwMFhFUlMiLCJnaXZlbl9uYW1lIjoiUmljYXJkbyIsImZhbWlseV9uYW1lIjoiTGFzdHJhIiwibmFtZSI6IlJpY2FyZG8gTGFzdHJhIiwiZW1haWwiOiJBTDAyNTY4MzYwQHRlY21pbGVuaW8ubXgiLCJzdWIiOiJBTDAyNTY4MzYwQHRlY21pbGVuaW8ubXgiLCJhdXRobiI6eyJzdWIiOiJBTDAyNTY4MzYwQHRlY21pbGVuaW8ubXgiLCJpYW1faWQiOiJJQk1pZC02OTQwMDBYRVJTIiwibmFtZSI6IlJpY2FyZG8gTGFzdHJhIiwiZ2l2ZW5fbmFtZSI6IlJpY2FyZG8iLCJmYW1pbHlfbmFtZSI6Ikxhc3RyYSIsImVtYWlsIjoiQUwwMjU2ODM2MEB0ZWNtaWxlbmlvLm14In0sImFjY291bnQiOnsidmFsaWQiOnRydWUsImJzcyI6IjBiMmEyOTljNDdjODRmYjA5MTI3NDBjMjYzNjliZjdhIiwiZnJvemVuIjp0cnVlfSwiaWF0IjoxNzU0MDIwNjIxLCJleHAiOjE3NTQwMjQyMjEsImlzcyI6Imh0dHBzOi8vaWFtLmNsb3VkLmlibS5jb20vaWRlbnRpdHkiLCJncmFudF90eXBlIjoidXJuOmlibTpwYXJhbXM6b2F1dGg6Z3JhbnQtdHlwZTphcGlrZXkiLCJzY29wZSI6ImlibSBvcGVuaWQiLCJjbGllbnRfaWQiOiJkZWZhdWx0IiwiYWNyIjoxLCJhbXIiOlsicHdkIl19.WiEJgRbM6iLfFHQJV_WRH2iJAdqYD6KFA4m3gOziVy0Vacd5hVa6uuRv0L5cbf5j92vVxf1NWFF1_MlU8gAjZxsslcDfuGenC4eZm3TnUYJ8WL-480zEnJOWZHFtHQjjCrZlNFVl5final55xGKhck8zQJfjF5E179dtX1zOwhrLMiPoy2LYW3VopSMHFo5GMdW3OQhr1s-L_0Of5AuWDIbOxesfGoRdofMZKl1i-EhGI1_gXtUkXwGuP1iCAxk6V99eWhp1BfQF1MUgSnck0h0dHvUqmzWrOpuODFpWBXnrX4BoTDVcNuHm-XlcmUKWZDpbgjGIEJocqCXRFpxagg\",\"refresh_token\":\"not_supported\",\"token_type\":\"Bearer\",\"expires_in\":3600,\"expiration\":1754024221,\"scope\":\"ibm openid\"}\n",
            "Respuesta del modelo:\n",
            "{\n",
            "  \"predictions\": [\n",
            "    {\n",
            "      \"fields\": [\n",
            "        \"prediction\"\n",
            "      ],\n",
            "      \"values\": [\n",
            "        [\n",
            "          176.3286277920592\n",
            "        ]\n",
            "      ]\n",
            "    }\n",
            "  ]\n",
            "}\n"
          ]
        }
      ]
    }
  ]
}